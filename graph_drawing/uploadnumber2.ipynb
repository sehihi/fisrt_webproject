{
 "cells": [
  {
   "cell_type": "code",
   "execution_count": 8,
   "metadata": {},
   "outputs": [],
   "source": [
    "import pandas as pd\n",
    "import mysql.connector\n",
    "\n",
    "# MySQL 연결 설정\n",
    "db = mysql.connector.connect(\n",
    "    host=\"localhost\",   # MySQL 서버 주소\n",
    "    user=\"root\",  # MySQL 사용자명\n",
    "    password=\"1223\",  # MySQL 비밀번호\n",
    "    database=\"webproject\"  # 사용할 데이터베이스\n",
    ")\n",
    "\n",
    "cursor = db.cursor()\n",
    "\n",
    "# 엑셀 파일 불러오기\n",
    "excel_file = \"graph_2.xlsx\"\n",
    "\n",
    "# 각 시트를 pandas 데이터프레임으로 로드\n",
    "sheet1 = pd.read_excel(excel_file, sheet_name='P1 설계변경요청', header=None)  # 첫 번째 시트\n",
    "sheet2 = pd.read_excel(excel_file, sheet_name='P2 설계변경요청1', header=None)  # 두 번째 시트\n",
    "sheet3 = pd.read_excel(excel_file, sheet_name='P3 설계변경요청', header=None)  # 세 번째 시트\n",
    "\n",
    "# 각 시트를 MySQL 테이블에 삽입하는 함수\n",
    "def insert_into_table(df, table_name):\n",
    "    for _, row in df.iterrows():\n",
    "        sql = f\"INSERT INTO {table_name} (등록구분, 진행상태, 프로젝트, 긴급도, 중요도, 등록일, 조치완료일) VALUES (%s, %s, %s, %s, %s, %s, %s)\"\n",
    "        cursor.execute(sql, tuple(row))\n",
    "    db.commit()\n",
    "\n",
    "# 데이터 삽입 (p1, p2, p3 테이블에 각 시트 삽입)\n",
    "insert_into_table(sheet1, 'number2_p111')\n",
    "insert_into_table(sheet2, 'number2_p2')\n",
    "insert_into_table(sheet3, 'number2_p3')\n",
    "\n",
    "# MySQL 연결 종료\n",
    "cursor.close()\n",
    "db.close()"
   ]
  }
 ],
 "metadata": {
  "kernelspec": {
   "display_name": "sec",
   "language": "python",
   "name": "python3"
  },
  "language_info": {
   "codemirror_mode": {
    "name": "ipython",
    "version": 3
   },
   "file_extension": ".py",
   "mimetype": "text/x-python",
   "name": "python",
   "nbconvert_exporter": "python",
   "pygments_lexer": "ipython3",
   "version": "3.12.4"
  }
 },
 "nbformat": 4,
 "nbformat_minor": 2
}

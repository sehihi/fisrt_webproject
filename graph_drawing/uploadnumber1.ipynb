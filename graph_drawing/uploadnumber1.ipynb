{
 "cells": [
  {
   "cell_type": "code",
   "execution_count": 1,
   "metadata": {},
   "outputs": [
    {
     "ename": "ProgrammingError",
     "evalue": "Not all parameters were used in the SQL statement",
     "output_type": "error",
     "traceback": [
      "\u001b[1;31m---------------------------------------------------------------------------\u001b[0m",
      "\u001b[1;31mProgrammingError\u001b[0m                          Traceback (most recent call last)",
      "Cell \u001b[1;32mIn[1], line 30\u001b[0m\n\u001b[0;32m     27\u001b[0m     db\u001b[38;5;241m.\u001b[39mcommit()\n\u001b[0;32m     29\u001b[0m \u001b[38;5;66;03m# 데이터 삽입 (p1, p2, p3 테이블에 각 시트 삽입)\u001b[39;00m\n\u001b[1;32m---> 30\u001b[0m insert_into_table(sheet1, \u001b[38;5;124m'\u001b[39m\u001b[38;5;124mnumber1_p1\u001b[39m\u001b[38;5;124m'\u001b[39m)\n\u001b[0;32m     31\u001b[0m insert_into_table(sheet2, \u001b[38;5;124m'\u001b[39m\u001b[38;5;124mnumber1_p2\u001b[39m\u001b[38;5;124m'\u001b[39m)\n\u001b[0;32m     32\u001b[0m insert_into_table(sheet3, \u001b[38;5;124m'\u001b[39m\u001b[38;5;124mnumber1_p3\u001b[39m\u001b[38;5;124m'\u001b[39m)\n",
      "Cell \u001b[1;32mIn[1], line 26\u001b[0m, in \u001b[0;36minsert_into_table\u001b[1;34m(df, table_name)\u001b[0m\n\u001b[0;32m     24\u001b[0m \u001b[38;5;28;01mfor\u001b[39;00m _, row \u001b[38;5;129;01min\u001b[39;00m df\u001b[38;5;241m.\u001b[39miterrows():\n\u001b[0;32m     25\u001b[0m     sql \u001b[38;5;241m=\u001b[39m \u001b[38;5;124mf\u001b[39m\u001b[38;5;124m\"\u001b[39m\u001b[38;5;124mINSERT INTO \u001b[39m\u001b[38;5;132;01m{\u001b[39;00mtable_name\u001b[38;5;132;01m}\u001b[39;00m\u001b[38;5;124m (프로젝트번호, 출도부서, 근원부서, 원인코드) VALUES (%s, %s, %s, %s)\u001b[39m\u001b[38;5;124m\"\u001b[39m\n\u001b[1;32m---> 26\u001b[0m     cursor\u001b[38;5;241m.\u001b[39mexecute(sql, \u001b[38;5;28mtuple\u001b[39m(row))\n\u001b[0;32m     27\u001b[0m db\u001b[38;5;241m.\u001b[39mcommit()\n",
      "File \u001b[1;32mc:\\Users\\samsung\\anaconda3\\Lib\\site-packages\\mysql\\connector\\cursor_cext.py:352\u001b[0m, in \u001b[0;36mCMySQLCursor.execute\u001b[1;34m(self, operation, params, multi)\u001b[0m\n\u001b[0;32m    350\u001b[0m         stmt \u001b[38;5;241m=\u001b[39m RE_PY_PARAM\u001b[38;5;241m.\u001b[39msub(psub, stmt)\n\u001b[0;32m    351\u001b[0m         \u001b[38;5;28;01mif\u001b[39;00m psub\u001b[38;5;241m.\u001b[39mremaining \u001b[38;5;241m!=\u001b[39m \u001b[38;5;241m0\u001b[39m:\n\u001b[1;32m--> 352\u001b[0m             \u001b[38;5;28;01mraise\u001b[39;00m ProgrammingError(\n\u001b[0;32m    353\u001b[0m                 \u001b[38;5;124m\"\u001b[39m\u001b[38;5;124mNot all parameters were used in the SQL statement\u001b[39m\u001b[38;5;124m\"\u001b[39m\n\u001b[0;32m    354\u001b[0m             )\n\u001b[0;32m    356\u001b[0m \u001b[38;5;28;01mtry\u001b[39;00m:\n\u001b[0;32m    357\u001b[0m     result \u001b[38;5;241m=\u001b[39m \u001b[38;5;28mself\u001b[39m\u001b[38;5;241m.\u001b[39m_connection\u001b[38;5;241m.\u001b[39mcmd_query(\n\u001b[0;32m    358\u001b[0m         stmt,\n\u001b[0;32m    359\u001b[0m         raw\u001b[38;5;241m=\u001b[39m\u001b[38;5;28mself\u001b[39m\u001b[38;5;241m.\u001b[39m_raw,\n\u001b[0;32m    360\u001b[0m         buffered\u001b[38;5;241m=\u001b[39m\u001b[38;5;28mself\u001b[39m\u001b[38;5;241m.\u001b[39m_buffered,\n\u001b[0;32m    361\u001b[0m         raw_as_string\u001b[38;5;241m=\u001b[39m\u001b[38;5;28mself\u001b[39m\u001b[38;5;241m.\u001b[39m_raw_as_string,\n\u001b[0;32m    362\u001b[0m     )\n",
      "\u001b[1;31mProgrammingError\u001b[0m: Not all parameters were used in the SQL statement"
     ]
    }
   ],
   "source": [
    "import pandas as pd\n",
    "import mysql.connector\n",
    "\n",
    "# MySQL 연결 설정\n",
    "db = mysql.connector.connect(\n",
    "    host=\"localhost\",   # MySQL 서버 주소\n",
    "    user=\"root\",  # MySQL 사용자명\n",
    "    password=\"1223\",  # MySQL 비밀번호\n",
    "    database=\"webproject\"  # 사용할 데이터베이스\n",
    ")\n",
    "\n",
    "cursor = db.cursor()\n",
    "\n",
    "# 엑셀 파일 불러오기\n",
    "excel_file = \"graph_1.xlsx\"\n",
    "\n",
    "# 각 시트를 pandas 데이터프레임으로 로드\n",
    "sheet1 = pd.read_excel(excel_file, sheet_name='P1 개정도', header=None)  # 첫 번째 시트\n",
    "sheet2 = pd.read_excel(excel_file, sheet_name='P2 개정도', header=None)  # 두 번째 시트\n",
    "sheet3 = pd.read_excel(excel_file, sheet_name='P3 개정도', header=None)  # 세 번째 시트\n",
    "\n",
    "# 각 시트를 MySQL 테이블에 삽입하는 함수\n",
    "def insert_into_table(df, table_name):\n",
    "    for _, row in df.iterrows():\n",
    "        sql = f\"INSERT INTO {table_name} (프로젝트번호, 출도부서, 근원부서, 원인코드) VALUES (%s, %s, %s, %s)\"\n",
    "        cursor.execute(sql, tuple(row))\n",
    "    db.commit()\n",
    "\n",
    "# 데이터 삽입 (p1, p2, p3 테이블에 각 시트 삽입)\n",
    "insert_into_table(sheet1, 'number1_p1')\n",
    "insert_into_table(sheet2, 'number1_p2')\n",
    "insert_into_table(sheet3, 'number1_p3')\n",
    "\n",
    "# MySQL 연결 종료\n",
    "cursor.close()\n",
    "db.close()"
   ]
  }
 ],
 "metadata": {
  "kernelspec": {
   "display_name": "sec",
   "language": "python",
   "name": "python3"
  },
  "language_info": {
   "codemirror_mode": {
    "name": "ipython",
    "version": 3
   },
   "file_extension": ".py",
   "mimetype": "text/x-python",
   "name": "python",
   "nbconvert_exporter": "python",
   "pygments_lexer": "ipython3",
   "version": "3.12.4"
  }
 },
 "nbformat": 4,
 "nbformat_minor": 2
}
